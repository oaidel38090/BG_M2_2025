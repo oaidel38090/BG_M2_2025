{
 "cells": [
  {
   "cell_type": "markdown",
   "id": "4b350bf9-c376-4f8d-a0c3-6a0b2c1ff396",
   "metadata": {},
   "source": [
    "# JUPYTER"
   ]
  },
  {
   "cell_type": "markdown",
   "id": "ead8ce74-e34a-42b6-b6fa-a988eaacb144",
   "metadata": {},
   "source": [
    "## Prise en main de Jupyter"
   ]
  },
  {
   "cell_type": "markdown",
   "id": "70cb9c18-b7cd-4955-9b31-48db4ce97ba4",
   "metadata": {},
   "source": [
    "### Créer votre propre Notebook jupyter dans le répertoire Support/MES_TP ?"
   ]
  },
  {
   "cell_type": "markdown",
   "id": "76e97c06-adca-4b3a-acad-d2fabe381b53",
   "metadata": {},
   "source": [
    "### Ajouter une cellule en markdown contenant en titre 1 'Mes débuts avec Jupyter\" à votre Notebook ? "
   ]
  },
  {
   "cell_type": "markdown",
   "id": "0745e7e2-189f-47ff-9821-4378a4632654",
   "metadata": {},
   "source": [
    "### Ajouter une cellule en markdown contenant en titre 2 'Mes permières notes\" à votre Notebook ? "
   ]
  },
  {
   "cell_type": "markdown",
   "id": "c26be461-4327-496d-ac0e-ffcda7268a1e",
   "metadata": {},
   "source": [
    "### Ajouter une cellule en markdown contenant le texte 'Mon permièr code \" à votre Notebook ? "
   ]
  },
  {
   "cell_type": "markdown",
   "id": "dfb33cbb-c892-457d-843c-4a03c791da5c",
   "metadata": {},
   "source": [
    "### Ajouter une cellule contenant le code python suivant et qu'il soit non exécutable sur votre Notebook ?\n",
    "\n",
    "print(\"c'est du code python non exécutable sur le notebook\")"
   ]
  },
  {
   "cell_type": "markdown",
   "id": "234c88c6-bf28-4d66-94cc-89df233b9f73",
   "metadata": {},
   "source": [
    "### Ajouter une cellule contenant le code python suivant et qu'il soit  exécutable sur votre Notebook ?\n",
    "\n",
    "print(\"c'est du code python non exécutable sur le notebook\")"
   ]
  },
  {
   "cell_type": "markdown",
   "id": "e6ff7b11-aa4c-44e9-a8f4-ee4af2e565e5",
   "metadata": {},
   "source": [
    "### Intervertissez les 2 dernières cellules ?"
   ]
  },
  {
   "cell_type": "markdown",
   "id": "cb621658-be73-48a8-b432-8ca92d820ee7",
   "metadata": {},
   "source": [
    "### Enregistrer votre notebook ?"
   ]
  },
  {
   "cell_type": "markdown",
   "id": "4b5bbafa-4621-49f3-b367-330a4eeedb98",
   "metadata": {},
   "source": [
    "### Exécuter l'ensemble des cellules de votre notebook ?"
   ]
  },
  {
   "cell_type": "markdown",
   "id": "1314b7de-2a5c-4425-b1e8-c88dbc2a6653",
   "metadata": {},
   "source": [
    "### Supprimer les résultats de l'ensemble des cellules ? "
   ]
  },
  {
   "cell_type": "markdown",
   "id": "6f93cb0c-d72c-4ec8-a2f8-9a796cc2a567",
   "metadata": {},
   "source": [
    "### Télécharger votre notebook sur votre ordinateur ?"
   ]
  }
 ],
 "metadata": {
  "kernelspec": {
   "display_name": "Python 3 (ipykernel)",
   "language": "python",
   "name": "python3"
  },
  "language_info": {
   "codemirror_mode": {
    "name": "ipython",
    "version": 3
   },
   "file_extension": ".py",
   "mimetype": "text/x-python",
   "name": "python",
   "nbconvert_exporter": "python",
   "pygments_lexer": "ipython3",
   "version": "3.7.10"
  }
 },
 "nbformat": 4,
 "nbformat_minor": 5
}
